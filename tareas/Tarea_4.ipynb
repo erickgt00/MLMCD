{
  "nbformat": 4,
  "nbformat_minor": 0,
  "metadata": {
    "colab": {
      "provenance": [],
      "authorship_tag": "ABX9TyM5C6I3Q7R0JTDhjbmhx2CL",
      "include_colab_link": true
    },
    "kernelspec": {
      "name": "python3",
      "display_name": "Python 3"
    },
    "language_info": {
      "name": "python"
    }
  },
  "cells": [
    {
      "cell_type": "markdown",
      "metadata": {
        "id": "view-in-github",
        "colab_type": "text"
      },
      "source": [
        "<a href=\"https://colab.research.google.com/github/erickgt00/MLMCD/blob/main/Tarea_4.ipynb\" target=\"_parent\"><img src=\"https://colab.research.google.com/assets/colab-badge.svg\" alt=\"Open In Colab\"/></a>"
      ]
    },
    {
      "cell_type": "code",
      "execution_count": null,
      "metadata": {
        "id": "qedcrwtY2zSs"
      },
      "outputs": [],
      "source": []
    },
    {
      "cell_type": "markdown",
      "source": [
        "# Tarea en Calse\n",
        "\n",
        "* Aplica algún método de filtro a tus datos mediante el uso de SelectKBest\n",
        "\n"
      ],
      "metadata": {
        "id": "rENfIPb721OO"
      }
    },
    {
      "cell_type": "code",
      "source": [
        "import pandas as pd\n",
        "import matplotlib.pyplot as plt"
      ],
      "metadata": {
        "id": "-veP5A6d3DBS"
      },
      "execution_count": null,
      "outputs": []
    },
    {
      "cell_type": "markdown",
      "source": [
        "Se tratará de explicar la tasa de interes (y) a partir del monto prestado, el debito a ingresos, el total de cuentas y sus utilidades rotativas"
      ],
      "metadata": {
        "id": "UivsqmqA413F"
      }
    },
    {
      "cell_type": "code",
      "source": [
        "df = pd.read_csv(\"test.csv\")\n",
        "y = df[['Interest Rate']]\n",
        "x = df[['Loan Amount','Term', 'Debit to Income', 'Total Accounts', 'Revolving Utilities']]"
      ],
      "metadata": {
        "id": "Gee4Qctk3gPL"
      },
      "execution_count": null,
      "outputs": []
    },
    {
      "cell_type": "markdown",
      "source": [
        "Ahora buscaremos sus clasificaciones"
      ],
      "metadata": {
        "id": "1RDnB1Jw57A2"
      }
    },
    {
      "cell_type": "code",
      "source": [
        "from sklearn.feature_selection import SelectKBest\n",
        "from sklearn.feature_selection import f_regression\n",
        "f_value = f_regression(x, y)\n",
        "f_value"
      ],
      "metadata": {
        "colab": {
          "base_uri": "https://localhost:8080/"
        },
        "id": "pLB-xMd-5-KT",
        "outputId": "d853aa5d-3597-46a6-9b4e-f7d29e8ccb23"
      },
      "execution_count": null,
      "outputs": [
        {
          "output_type": "stream",
          "name": "stderr",
          "text": [
            "/usr/local/lib/python3.8/dist-packages/sklearn/utils/validation.py:993: DataConversionWarning: A column-vector y was passed when a 1d array was expected. Please change the shape of y to (n_samples, ), for example using ravel().\n",
            "  y = column_or_1d(y, warn=True)\n"
          ]
        },
        {
          "output_type": "execute_result",
          "data": {
            "text/plain": [
              "(array([  2.49508838,  57.37532735,   0.68686413,  34.1114153 ,\n",
              "        177.93825281]),\n",
              " array([1.14212905e-01, 3.70844749e-14, 4.07239902e-01, 5.26015847e-09,\n",
              "        1.80030251e-40]))"
            ]
          },
          "metadata": {},
          "execution_count": 7
        }
      ]
    },
    {
      "cell_type": "code",
      "source": [
        "df_results = pd.DataFrame(f_value[0], index=x.columns)\n",
        "df_results.columns = ['f_value']\n",
        "df_results.sort_values('f_value', inplace = True, ascending = False)\n",
        "df_results"
      ],
      "metadata": {
        "colab": {
          "base_uri": "https://localhost:8080/",
          "height": 206
        },
        "id": "Wzi88QfP6kv4",
        "outputId": "4643935b-905c-4736-a5dd-bea17d9061ca"
      },
      "execution_count": null,
      "outputs": [
        {
          "output_type": "execute_result",
          "data": {
            "text/plain": [
              "                        f_value\n",
              "Revolving Utilities  177.938253\n",
              "Term                  57.375327\n",
              "Total Accounts        34.111415\n",
              "Loan Amount            2.495088\n",
              "Debit to Income        0.686864"
            ],
            "text/html": [
              "\n",
              "  <div id=\"df-ab0b8200-d009-46be-aba7-4703c0ca01b2\">\n",
              "    <div class=\"colab-df-container\">\n",
              "      <div>\n",
              "<style scoped>\n",
              "    .dataframe tbody tr th:only-of-type {\n",
              "        vertical-align: middle;\n",
              "    }\n",
              "\n",
              "    .dataframe tbody tr th {\n",
              "        vertical-align: top;\n",
              "    }\n",
              "\n",
              "    .dataframe thead th {\n",
              "        text-align: right;\n",
              "    }\n",
              "</style>\n",
              "<table border=\"1\" class=\"dataframe\">\n",
              "  <thead>\n",
              "    <tr style=\"text-align: right;\">\n",
              "      <th></th>\n",
              "      <th>f_value</th>\n",
              "    </tr>\n",
              "  </thead>\n",
              "  <tbody>\n",
              "    <tr>\n",
              "      <th>Revolving Utilities</th>\n",
              "      <td>177.938253</td>\n",
              "    </tr>\n",
              "    <tr>\n",
              "      <th>Term</th>\n",
              "      <td>57.375327</td>\n",
              "    </tr>\n",
              "    <tr>\n",
              "      <th>Total Accounts</th>\n",
              "      <td>34.111415</td>\n",
              "    </tr>\n",
              "    <tr>\n",
              "      <th>Loan Amount</th>\n",
              "      <td>2.495088</td>\n",
              "    </tr>\n",
              "    <tr>\n",
              "      <th>Debit to Income</th>\n",
              "      <td>0.686864</td>\n",
              "    </tr>\n",
              "  </tbody>\n",
              "</table>\n",
              "</div>\n",
              "      <button class=\"colab-df-convert\" onclick=\"convertToInteractive('df-ab0b8200-d009-46be-aba7-4703c0ca01b2')\"\n",
              "              title=\"Convert this dataframe to an interactive table.\"\n",
              "              style=\"display:none;\">\n",
              "        \n",
              "  <svg xmlns=\"http://www.w3.org/2000/svg\" height=\"24px\"viewBox=\"0 0 24 24\"\n",
              "       width=\"24px\">\n",
              "    <path d=\"M0 0h24v24H0V0z\" fill=\"none\"/>\n",
              "    <path d=\"M18.56 5.44l.94 2.06.94-2.06 2.06-.94-2.06-.94-.94-2.06-.94 2.06-2.06.94zm-11 1L8.5 8.5l.94-2.06 2.06-.94-2.06-.94L8.5 2.5l-.94 2.06-2.06.94zm10 10l.94 2.06.94-2.06 2.06-.94-2.06-.94-.94-2.06-.94 2.06-2.06.94z\"/><path d=\"M17.41 7.96l-1.37-1.37c-.4-.4-.92-.59-1.43-.59-.52 0-1.04.2-1.43.59L10.3 9.45l-7.72 7.72c-.78.78-.78 2.05 0 2.83L4 21.41c.39.39.9.59 1.41.59.51 0 1.02-.2 1.41-.59l7.78-7.78 2.81-2.81c.8-.78.8-2.07 0-2.86zM5.41 20L4 18.59l7.72-7.72 1.47 1.35L5.41 20z\"/>\n",
              "  </svg>\n",
              "      </button>\n",
              "      \n",
              "  <style>\n",
              "    .colab-df-container {\n",
              "      display:flex;\n",
              "      flex-wrap:wrap;\n",
              "      gap: 12px;\n",
              "    }\n",
              "\n",
              "    .colab-df-convert {\n",
              "      background-color: #E8F0FE;\n",
              "      border: none;\n",
              "      border-radius: 50%;\n",
              "      cursor: pointer;\n",
              "      display: none;\n",
              "      fill: #1967D2;\n",
              "      height: 32px;\n",
              "      padding: 0 0 0 0;\n",
              "      width: 32px;\n",
              "    }\n",
              "\n",
              "    .colab-df-convert:hover {\n",
              "      background-color: #E2EBFA;\n",
              "      box-shadow: 0px 1px 2px rgba(60, 64, 67, 0.3), 0px 1px 3px 1px rgba(60, 64, 67, 0.15);\n",
              "      fill: #174EA6;\n",
              "    }\n",
              "\n",
              "    [theme=dark] .colab-df-convert {\n",
              "      background-color: #3B4455;\n",
              "      fill: #D2E3FC;\n",
              "    }\n",
              "\n",
              "    [theme=dark] .colab-df-convert:hover {\n",
              "      background-color: #434B5C;\n",
              "      box-shadow: 0px 1px 3px 1px rgba(0, 0, 0, 0.15);\n",
              "      filter: drop-shadow(0px 1px 2px rgba(0, 0, 0, 0.3));\n",
              "      fill: #FFFFFF;\n",
              "    }\n",
              "  </style>\n",
              "\n",
              "      <script>\n",
              "        const buttonEl =\n",
              "          document.querySelector('#df-ab0b8200-d009-46be-aba7-4703c0ca01b2 button.colab-df-convert');\n",
              "        buttonEl.style.display =\n",
              "          google.colab.kernel.accessAllowed ? 'block' : 'none';\n",
              "\n",
              "        async function convertToInteractive(key) {\n",
              "          const element = document.querySelector('#df-ab0b8200-d009-46be-aba7-4703c0ca01b2');\n",
              "          const dataTable =\n",
              "            await google.colab.kernel.invokeFunction('convertToInteractive',\n",
              "                                                     [key], {});\n",
              "          if (!dataTable) return;\n",
              "\n",
              "          const docLinkHtml = 'Like what you see? Visit the ' +\n",
              "            '<a target=\"_blank\" href=https://colab.research.google.com/notebooks/data_table.ipynb>data table notebook</a>'\n",
              "            + ' to learn more about interactive tables.';\n",
              "          element.innerHTML = '';\n",
              "          dataTable['output_type'] = 'display_data';\n",
              "          await google.colab.output.renderOutput(dataTable, element);\n",
              "          const docLink = document.createElement('div');\n",
              "          docLink.innerHTML = docLinkHtml;\n",
              "          element.appendChild(docLink);\n",
              "        }\n",
              "      </script>\n",
              "    </div>\n",
              "  </div>\n",
              "  "
            ]
          },
          "metadata": {},
          "execution_count": 8
        }
      ]
    },
    {
      "cell_type": "code",
      "source": [
        "plt.figure()\n",
        "plt.bar(df_results.index, df_results.f_value)\n",
        "plt.show()"
      ],
      "metadata": {
        "colab": {
          "base_uri": "https://localhost:8080/",
          "height": 265
        },
        "id": "I1rjhiBX8IoV",
        "outputId": "864908a2-7a1d-47ab-ddcc-7facd38c2cad"
      },
      "execution_count": null,
      "outputs": [
        {
          "output_type": "display_data",
          "data": {
            "text/plain": [
              "<Figure size 432x288 with 1 Axes>"
            ],
            "image/png": "[encoded data removed]"
          },
          "metadata": {
            "needs_background": "light"
          }
        }
      ]
    },
    {
      "cell_type": "markdown",
      "source": [
        "Podemos observar que la utilidad revolvente y el plazo del crédito encabezan la realción lineal con la tasa de intéres."
      ],
      "metadata": {
        "id": "nKpfMRXI8Z1q"
      }
    },
    {
      "cell_type": "markdown",
      "source": [
        "# Tarea 4\n",
        "\n",
        "* Aplica los modelos de selección de características cuidando los supuestos de cada modelo\n",
        "* Busca una o varias métricas para seleccionar características en literatura relacionada con tu problema (cita tus fuentes)\n",
        "* Con base en tu investigación, determina las características más relevantes de tu conjunto de datos\n",
        "* Discute por qué crees que las características seleccionadas son las más relevantes y por qué el resto quedaron excluidas en la selección"
      ],
      "metadata": {
        "id": "d0YPVnFWC8n0"
      }
    },
    {
      "cell_type": "markdown",
      "source": [
        "Para la selección de nuestras caracteristicas es imporatante conocer primeramente bien el tema.\n",
        "\n",
        "Para esta tarea nos enfocaremos en predecir si una persona va a ser morosa o no.\n",
        "Por lo que nuestra variable de respuesta será el \"Loan Status\", done \"0\" significa que no es morosa y \"1\" que si es morosa.\n",
        "\n",
        "El término \"calificación de crédito\" se utiliza para describir el proceso de evaluar el riesgo que un cliente presenta de incumplir una obligación financiera.\n",
        "\n",
        "El objetivo es asignar a los clientes a uno de dos grupos: buenos y malos. Un miembro del grupo bueno se considera probable que cumpla su obligación financiera. Un miembro del grupo malo se considera probable que incumpla su obligación financiera. En su versión más simple, una tarjeta de calificación de crédito consiste en un conjunto de características que se utilizan para asignar una calificación de crédito a un cliente, indicando su nivel de riesgo. Esta calificación de crédito luego puede compararse con un umbral para tomar una decisión de préstamo. Ya que la calificación de crédito es esencialmente un problema de discriminación (bueno o malo), se puede recurrir a las numerosas técnicas de clasificación que se han sugerido en la literatura.\n",
        "\n",
        "Dicho esto nos enfocaremos en la selección de 5 variables regresoras y 1 de respuesta.\n",
        "\n",
        "* \"Loan Amount\": Es el monto del prestámo que dispuso el cliente.\n",
        "\n",
        "* \"Term\": Es el plazo del prestámo.\n",
        "\n",
        "* \"Grade\": Es el nivel de riesgo asignado por el banco, siendo \"1\" el mejor y \"7\" el peor.\n",
        "\n",
        "* \"Debit to Income\": Este nos índica la proporción del pago mensual divido por los ingresos del cliente.\n",
        "\n",
        "* \"Delinquency\": Este nos índica la cantidad de más de 30 días de morosidad del cliente en los últimos 2 años.\n",
        "\n",
        "* \"Loan Status\": Esta es nuestra variable de ínteres y nos índica si el cliente es o no moroso."
      ],
      "metadata": {
        "id": "7ZNK-wrSC8h-"
      }
    },
    {
      "cell_type": "markdown",
      "source": [
        "Ahora bien, realizaremos la seleccón de nuestras carácteristicas."
      ],
      "metadata": {
        "id": "GEEZK5EEJrqK"
      }
    },
    {
      "cell_type": "code",
      "source": [
        "import pandas as pd\n",
        "import matplotlib.pyplot as plt\n",
        "import numpy as np, plotly.express as px, matplotlib.pyplot as plt, seaborn as sns"
      ],
      "metadata": {
        "id": "8CSFxisYmXtk"
      },
      "execution_count": 7,
      "outputs": []
    },
    {
      "cell_type": "code",
      "source": [
        "df = pd.read_csv(\"train.csv\")\n",
        "y = df[['Loan Status']]\n",
        "x = df[['Loan Amount','Term', 'Grade', 'Debit to Income', 'Delinquency']]"
      ],
      "metadata": {
        "id": "SpLJN027mv92"
      },
      "execution_count": 2,
      "outputs": []
    },
    {
      "cell_type": "markdown",
      "source": [
        "### Selección de caracteristicas por el **Anova** valor $F$"
      ],
      "metadata": {
        "id": "k-hoUStBqYPH"
      }
    },
    {
      "cell_type": "code",
      "source": [
        "from sklearn.feature_selection import SelectKBest\n",
        "from sklearn.feature_selection import f_regression\n",
        "f_value = f_regression(x, y)\n",
        "f_value"
      ],
      "metadata": {
        "colab": {
          "base_uri": "https://localhost:8080/"
        },
        "id": "LQ_6pFF8nD4e",
        "outputId": "2163c04e-eec0-4782-a2ab-9e1fb952d677"
      },
      "execution_count": 3,
      "outputs": [
        {
          "output_type": "stream",
          "name": "stderr",
          "text": [
            "/usr/local/lib/python3.8/dist-packages/sklearn/utils/validation.py:993: DataConversionWarning: A column-vector y was passed when a 1d array was expected. Please change the shape of y to (n_samples, ), for example using ravel().\n",
            "  y = column_or_1d(y, warn=True)\n"
          ]
        },
        {
          "output_type": "execute_result",
          "data": {
            "text/plain": [
              "(array([1.34974144, 0.784323  , 9.16882431, 0.63057909, 6.73374293]),\n",
              " array([0.24532743, 0.37582542, 0.00246266, 0.42714577, 0.00946263]))"
            ]
          },
          "metadata": {},
          "execution_count": 3
        }
      ]
    },
    {
      "cell_type": "code",
      "source": [
        "df_results = pd.DataFrame(f_value[0], index=x.columns)\n",
        "df_results.columns = ['f_value']\n",
        "df_results.sort_values('f_value', inplace = True, ascending = False)\n",
        "df_results"
      ],
      "metadata": {
        "colab": {
          "base_uri": "https://localhost:8080/",
          "height": 206
        },
        "id": "_EbJ5v9_nKgc",
        "outputId": "6d5ddf37-5ccd-4191-81c5-e8721dcc5223"
      },
      "execution_count": 4,
      "outputs": [
        {
          "output_type": "execute_result",
          "data": {
            "text/plain": [
              "                  f_value\n",
              "Grade            9.168824\n",
              "Delinquency      6.733743\n",
              "Loan Amount      1.349741\n",
              "Term             0.784323\n",
              "Debit to Income  0.630579"
            ],
            "text/html": [
              "\n",
              "  <div id=\"df-36ec6533-9cd1-4f53-b067-20d00e3e9eb7\">\n",
              "    <div class=\"colab-df-container\">\n",
              "      <div>\n",
              "<style scoped>\n",
              "    .dataframe tbody tr th:only-of-type {\n",
              "        vertical-align: middle;\n",
              "    }\n",
              "\n",
              "    .dataframe tbody tr th {\n",
              "        vertical-align: top;\n",
              "    }\n",
              "\n",
              "    .dataframe thead th {\n",
              "        text-align: right;\n",
              "    }\n",
              "</style>\n",
              "<table border=\"1\" class=\"dataframe\">\n",
              "  <thead>\n",
              "    <tr style=\"text-align: right;\">\n",
              "      <th></th>\n",
              "      <th>f_value</th>\n",
              "    </tr>\n",
              "  </thead>\n",
              "  <tbody>\n",
              "    <tr>\n",
              "      <th>Grade</th>\n",
              "      <td>9.168824</td>\n",
              "    </tr>\n",
              "    <tr>\n",
              "      <th>Delinquency</th>\n",
              "      <td>6.733743</td>\n",
              "    </tr>\n",
              "    <tr>\n",
              "      <th>Loan Amount</th>\n",
              "      <td>1.349741</td>\n",
              "    </tr>\n",
              "    <tr>\n",
              "      <th>Term</th>\n",
              "      <td>0.784323</td>\n",
              "    </tr>\n",
              "    <tr>\n",
              "      <th>Debit to Income</th>\n",
              "      <td>0.630579</td>\n",
              "    </tr>\n",
              "  </tbody>\n",
              "</table>\n",
              "</div>\n",
              "      <button class=\"colab-df-convert\" onclick=\"convertToInteractive('df-36ec6533-9cd1-4f53-b067-20d00e3e9eb7')\"\n",
              "              title=\"Convert this dataframe to an interactive table.\"\n",
              "              style=\"display:none;\">\n",
              "        \n",
              "  <svg xmlns=\"http://www.w3.org/2000/svg\" height=\"24px\"viewBox=\"0 0 24 24\"\n",
              "       width=\"24px\">\n",
              "    <path d=\"M0 0h24v24H0V0z\" fill=\"none\"/>\n",
              "    <path d=\"M18.56 5.44l.94 2.06.94-2.06 2.06-.94-2.06-.94-.94-2.06-.94 2.06-2.06.94zm-11 1L8.5 8.5l.94-2.06 2.06-.94-2.06-.94L8.5 2.5l-.94 2.06-2.06.94zm10 10l.94 2.06.94-2.06 2.06-.94-2.06-.94-.94-2.06-.94 2.06-2.06.94z\"/><path d=\"M17.41 7.96l-1.37-1.37c-.4-.4-.92-.59-1.43-.59-.52 0-1.04.2-1.43.59L10.3 9.45l-7.72 7.72c-.78.78-.78 2.05 0 2.83L4 21.41c.39.39.9.59 1.41.59.51 0 1.02-.2 1.41-.59l7.78-7.78 2.81-2.81c.8-.78.8-2.07 0-2.86zM5.41 20L4 18.59l7.72-7.72 1.47 1.35L5.41 20z\"/>\n",
              "  </svg>\n",
              "      </button>\n",
              "      \n",
              "  <style>\n",
              "    .colab-df-container {\n",
              "      display:flex;\n",
              "      flex-wrap:wrap;\n",
              "      gap: 12px;\n",
              "    }\n",
              "\n",
              "    .colab-df-convert {\n",
              "      background-color: #E8F0FE;\n",
              "      border: none;\n",
              "      border-radius: 50%;\n",
              "      cursor: pointer;\n",
              "      display: none;\n",
              "      fill: #1967D2;\n",
              "      height: 32px;\n",
              "      padding: 0 0 0 0;\n",
              "      width: 32px;\n",
              "    }\n",
              "\n",
              "    .colab-df-convert:hover {\n",
              "      background-color: #E2EBFA;\n",
              "      box-shadow: 0px 1px 2px rgba(60, 64, 67, 0.3), 0px 1px 3px 1px rgba(60, 64, 67, 0.15);\n",
              "      fill: #174EA6;\n",
              "    }\n",
              "\n",
              "    [theme=dark] .colab-df-convert {\n",
              "      background-color: #3B4455;\n",
              "      fill: #D2E3FC;\n",
              "    }\n",
              "\n",
              "    [theme=dark] .colab-df-convert:hover {\n",
              "      background-color: #434B5C;\n",
              "      box-shadow: 0px 1px 3px 1px rgba(0, 0, 0, 0.15);\n",
              "      filter: drop-shadow(0px 1px 2px rgba(0, 0, 0, 0.3));\n",
              "      fill: #FFFFFF;\n",
              "    }\n",
              "  </style>\n",
              "\n",
              "      <script>\n",
              "        const buttonEl =\n",
              "          document.querySelector('#df-36ec6533-9cd1-4f53-b067-20d00e3e9eb7 button.colab-df-convert');\n",
              "        buttonEl.style.display =\n",
              "          google.colab.kernel.accessAllowed ? 'block' : 'none';\n",
              "\n",
              "        async function convertToInteractive(key) {\n",
              "          const element = document.querySelector('#df-36ec6533-9cd1-4f53-b067-20d00e3e9eb7');\n",
              "          const dataTable =\n",
              "            await google.colab.kernel.invokeFunction('convertToInteractive',\n",
              "                                                     [key], {});\n",
              "          if (!dataTable) return;\n",
              "\n",
              "          const docLinkHtml = 'Like what you see? Visit the ' +\n",
              "            '<a target=\"_blank\" href=https://colab.research.google.com/notebooks/data_table.ipynb>data table notebook</a>'\n",
              "            + ' to learn more about interactive tables.';\n",
              "          element.innerHTML = '';\n",
              "          dataTable['output_type'] = 'display_data';\n",
              "          await google.colab.output.renderOutput(dataTable, element);\n",
              "          const docLink = document.createElement('div');\n",
              "          docLink.innerHTML = docLinkHtml;\n",
              "          element.appendChild(docLink);\n",
              "        }\n",
              "      </script>\n",
              "    </div>\n",
              "  </div>\n",
              "  "
            ]
          },
          "metadata": {},
          "execution_count": 4
        }
      ]
    },
    {
      "cell_type": "code",
      "source": [
        "plt.figure()\n",
        "plt.bar(df_results.index, df_results.f_value)\n",
        "plt.show()"
      ],
      "metadata": {
        "colab": {
          "base_uri": "https://localhost:8080/",
          "height": 265
        },
        "id": "LDewv4tTnn5O",
        "outputId": "35a457af-e572-4f61-bccd-c30018c59251"
      },
      "execution_count": 5,
      "outputs": [
        {
          "output_type": "display_data",
          "data": {
            "text/plain": [
              "<Figure size 432x288 with 1 Axes>"
            ],
            "image/png": "[encoded data removed]"
          },
          "metadata": {
            "needs_background": "light"
          }
        }
      ]
    },
    {
      "cell_type": "markdown",
      "source": [
        "Podemos observar que con este metodo es muy importante el grado de riesgo dado por el banco y las veces que ha sido moroso los últimos 2 años."
      ],
      "metadata": {
        "id": "pa7FK-3Nrk5j"
      }
    },
    {
      "cell_type": "code",
      "source": [
        "# Ahora vamos a revisar su correlación\n",
        "ndf = df[['Loan Amount','Term', 'Grade', 'Debit to Income', 'Delinquency', 'Loan Status']]\n",
        "corr = ndf.corr()\n",
        "plt.figure(figsize = (16, 12))\n",
        "g = sns.heatmap(ndf.corr(), annot = True)"
      ],
      "metadata": {
        "colab": {
          "base_uri": "https://localhost:8080/",
          "height": 704
        },
        "id": "kpX0sfBdnuiN",
        "outputId": "285a683b-4a03-470f-93b5-e7b1ad4f3278"
      },
      "execution_count": 10,
      "outputs": [
        {
          "output_type": "display_data",
          "data": {
            "text/plain": [
              "<Figure size 1152x864 with 2 Axes>"
            ],
            "image/png": "[encoded data removed]"
          },
          "metadata": {
            "needs_background": "light"
          }
        }
      ]
    },
    {
      "cell_type": "markdown",
      "source": [
        "Dada a que nuestras variables no presentan correlaciones significantes podríamos decir que nuestro modelo no presentará problemas de multicolinealidad en un futuro"
      ],
      "metadata": {
        "id": "tL-RoITKotsk"
      }
    },
    {
      "cell_type": "markdown",
      "source": [
        "### Selección de caracteristicas por el **valor $R$ de correlación**"
      ],
      "metadata": {
        "id": "hnPdaAG_qnaN"
      }
    },
    {
      "cell_type": "code",
      "source": [
        "from sklearn.feature_selection import r_regression"
      ],
      "metadata": {
        "id": "WBVELPKFo4S3"
      },
      "execution_count": 11,
      "outputs": []
    },
    {
      "cell_type": "code",
      "source": [
        "r_value = r_regression(x, y)\n",
        "r_value"
      ],
      "metadata": {
        "colab": {
          "base_uri": "https://localhost:8080/"
        },
        "id": "kiIo7sCeq__5",
        "outputId": "a5ee7db4-9920-4601-eadd-151a62162b8c"
      },
      "execution_count": 12,
      "outputs": [
        {
          "output_type": "stream",
          "name": "stderr",
          "text": [
            "/usr/local/lib/python3.8/dist-packages/sklearn/utils/validation.py:993: DataConversionWarning: A column-vector y was passed when a 1d array was expected. Please change the shape of y to (n_samples, ), for example using ravel().\n",
            "  y = column_or_1d(y, warn=True)\n"
          ]
        },
        {
          "output_type": "execute_result",
          "data": {
            "text/plain": [
              "array([-0.00447296, -0.00340972,  0.01165738, -0.00305732,  0.00999034])"
            ]
          },
          "metadata": {},
          "execution_count": 12
        }
      ]
    },
    {
      "cell_type": "code",
      "source": [
        "df_results['r_value'] = r_value\n",
        "colors = []\n",
        "for v in df_results['r_value']:\n",
        "    if v > 0:\n",
        "        colors.append('b')\n",
        "    else:\n",
        "        colors.append('r')"
      ],
      "metadata": {
        "id": "QDI5D295rHEu"
      },
      "execution_count": 13,
      "outputs": []
    },
    {
      "cell_type": "code",
      "source": [
        "df_results['r_value_abs'] = df_results['r_value'].abs()\n",
        "df_results.sort_values('r_value_abs', inplace = True, ascending = False)\n",
        "plt.figure()\n",
        "plt.bar(df_results.index, df_results.r_value_abs, color = colors)\n",
        "plt.show()"
      ],
      "metadata": {
        "colab": {
          "base_uri": "https://localhost:8080/",
          "height": 265
        },
        "id": "eMZ11iVWrUUI",
        "outputId": "959c105c-70c6-4bc8-b2c5-a90459f5d0ee"
      },
      "execution_count": 14,
      "outputs": [
        {
          "output_type": "display_data",
          "data": {
            "text/plain": [
              "<Figure size 432x288 with 1 Axes>"
            ],
            "image/png": "[encoded data removed]"
          },
          "metadata": {
            "needs_background": "light"
          }
        }
      ]
    },
    {
      "cell_type": "markdown",
      "source": [
        "Esta prueba nos índica el nivel de correlación entre si la persona es morosa y las demas variables. Siguiendo este metodo seleccionaríamos el monto del prestamo, la proporción que paga del crédito según su ingreso y el grado de riesgo."
      ],
      "metadata": {
        "id": "NyAmDXj-r4xd"
      }
    },
    {
      "cell_type": "markdown",
      "source": [
        "## Conclusiones\n",
        "\n",
        "Para la predicción del modelo tomaremos estas 5 características dado a que tiene aportación significante para el modelo. En ambas pruebas podemos ver que cumplen con los supuestos considerando diferentes factores."
      ],
      "metadata": {
        "id": "07xaDNGisXl7"
      }
    },
    {
      "cell_type": "markdown",
      "source": [
        "## Referencias \n",
        "\n",
        "[Credit Scoring Using Machine Learning](https://arrow.tudublin.ie/cgi/viewcontent.cgi?article=1138&context=sciendoc): Kenneth Kennedy Technological University Dublin\n",
        "\n",
        "[Loan Default Prediction](https://www.kaggle.com/code/lusfernandotorres/loan-default-prediction/notebook): Luis Fernando Torres (Kaggle)"
      ],
      "metadata": {
        "id": "fr4IZ4PbtajS"
      }
    }
  ]
}
