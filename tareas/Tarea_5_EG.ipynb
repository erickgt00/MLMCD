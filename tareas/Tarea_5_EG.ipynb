{
  "nbformat": 4,
  "nbformat_minor": 0,
  "metadata": {
    "colab": {
      "provenance": [],
      "authorship_tag": "ABX9TyO/l3iyms67mX3FLUD9o5RL",
      "include_colab_link": true
    },
    "kernelspec": {
      "name": "python3",
      "display_name": "Python 3"
    },
    "language_info": {
      "name": "python"
    }
  },
  "cells": [
    {
      "cell_type": "markdown",
      "metadata": {
        "id": "view-in-github",
        "colab_type": "text"
      },
      "source": [
        "<a href=\"https://colab.research.google.com/github/erickgt00/MLMCD/blob/main/Tarea_5_EG.ipynb\" target=\"_parent\"><img src=\"https://colab.research.google.com/assets/colab-badge.svg\" alt=\"Open In Colab\"/></a>"
      ]
    },
    {
      "cell_type": "markdown",
      "source": [
        "# Tarea 5\n",
        "\n",
        "## Método Mean Shift\n",
        "\n",
        "El método de Mean Shift es una técnica de clustering no paramétrico utilizado en machine learning para agrupar datos similares juntos.\n",
        "\n",
        "* El método de Mean Shift se basa en la idea de encontrar las regiones de alta densidad de puntos en el espacio de características de los datos.\n",
        "\n",
        "* El proceso comienza con una ventana de búsqueda (o kernel) centrada en un punto de datos. Luego, se calcula el centroide de la ventana de búsqueda, que es el punto medio ponderado de los datos dentro de la ventana.\n",
        "\n",
        "* La ventana de búsqueda se mueve hacia el centroide calculado, y se repite el proceso de cálculo del centroide y el desplazamiento de la ventana hasta que se alcanza un máximo local de densidad.\n",
        "\n",
        "* Cada punto de datos se asigna al máximo local de densidad más cercano, y los puntos que convergen a un mismo máximo local se agrupan juntos.\n",
        "\n",
        "* El resultado final del algoritmo es un conjunto de centroides, cada uno representando un grupo de puntos similares.\n",
        "\n",
        "* El método de Mean Shift es eficaz para encontrar los centros de los grupos en datos con formas irregulares o no lineales, y puede manejar conjuntos de datos grandes y de alta dimensionalidad. Sin embargo, puede ser computacionalmente costoso y sensible a la elección del tamaño de la ventana de búsqueda y la función de kernel utilizada."
      ],
      "metadata": {
        "id": "vxQ6bCCEpAO3"
      }
    },
    {
      "cell_type": "markdown",
      "source": [
        "# Aprendizaje No Supervisado"
      ],
      "metadata": {
        "id": "0SB4o1KXpjC0"
      }
    },
    {
      "cell_type": "code",
      "source": [
        "import numpy as np \n",
        "import pandas as pd \n",
        "import matplotlib.pyplot as plt\n",
        "import seaborn as sns "
      ],
      "metadata": {
        "id": "_1No1e0x65JH"
      },
      "execution_count": 21,
      "outputs": []
    },
    {
      "cell_type": "code",
      "source": [
        "import warnings\n",
        "\n",
        "warnings.filterwarnings('ignore')"
      ],
      "metadata": {
        "id": "Ql8I6IXz7IxR"
      },
      "execution_count": 22,
      "outputs": []
    },
    {
      "cell_type": "code",
      "source": [
        "df = pd.read_csv(\"train.csv\")"
      ],
      "metadata": {
        "id": "tp-LyhOo7Gtw"
      },
      "execution_count": 23,
      "outputs": []
    },
    {
      "cell_type": "markdown",
      "source": [
        "Utilizamos unicamente variables de interes"
      ],
      "metadata": {
        "id": "8zjKOK6E4iiD"
      }
    },
    {
      "cell_type": "code",
      "source": [
        "df = df[['Loan Amount','Term','Interest Rate','Grade','Loan Status']]\n",
        "df.head"
      ],
      "metadata": {
        "colab": {
          "base_uri": "https://localhost:8080/"
        },
        "id": "S2CWuoYW4m1I",
        "outputId": "8c7bc48b-3c6c-4d10-8453-fbb730a4e58b"
      },
      "execution_count": 24,
      "outputs": [
        {
          "output_type": "execute_result",
          "data": {
            "text/plain": [
              "<bound method NDFrame.head of        Loan Amount  Term  Interest Rate  Grade  Loan Status\n",
              "0            10000    59      11.135007      2            0\n",
              "1             3609    59      12.237563      3            0\n",
              "2            28276    59      12.545884      6            0\n",
              "3            11170    59      16.731201      3            0\n",
              "4            16890    59      15.008300      3            0\n",
              "...            ...   ...            ...    ...          ...\n",
              "67458        13601    59       9.408858      3            1\n",
              "67459         8323    59       9.972104      3            0\n",
              "67460        15897    59      19.650943      1            0\n",
              "67461        16567    59      13.169095      4            0\n",
              "67462        15353    59      16.034631      2            0\n",
              "\n",
              "[67463 rows x 5 columns]>"
            ]
          },
          "metadata": {},
          "execution_count": 24
        }
      ]
    },
    {
      "cell_type": "code",
      "source": [
        "X = df\n",
        "\n",
        "y = df['Loan Status']"
      ],
      "metadata": {
        "id": "W1TOWUiw-HvZ"
      },
      "execution_count": 25,
      "outputs": []
    },
    {
      "cell_type": "markdown",
      "source": [
        "## Feature Scalling"
      ],
      "metadata": {
        "id": "xb6Veh9p5vvM"
      }
    },
    {
      "cell_type": "code",
      "source": [
        "cols = df.columns"
      ],
      "metadata": {
        "id": "jt5aHJs351xh"
      },
      "execution_count": 26,
      "outputs": []
    },
    {
      "cell_type": "code",
      "source": [
        "from sklearn.preprocessing import MinMaxScaler\n",
        "\n",
        "ms = MinMaxScaler()\n",
        "\n",
        "df = ms.fit_transform(df)"
      ],
      "metadata": {
        "id": "WmC2n4HX56v2"
      },
      "execution_count": 27,
      "outputs": []
    },
    {
      "cell_type": "code",
      "source": [
        "X = pd.DataFrame(df, columns=[cols])"
      ],
      "metadata": {
        "id": "sRKMKpm36BAE"
      },
      "execution_count": 28,
      "outputs": []
    },
    {
      "cell_type": "code",
      "source": [
        "X.head()"
      ],
      "metadata": {
        "colab": {
          "base_uri": "https://localhost:8080/",
          "height": 206
        },
        "id": "WRqBGzwm6D9V",
        "outputId": "ad068253-8570-4cbc-bb9e-44da8fdc0941"
      },
      "execution_count": 29,
      "outputs": [
        {
          "output_type": "execute_result",
          "data": {
            "text/plain": [
              "  Loan Amount Term Interest Rate     Grade Loan Status\n",
              "0    0.264403  1.0      0.265983  0.166667         0.0\n",
              "1    0.076355  1.0      0.316414  0.333333         0.0\n",
              "2    0.802154  1.0      0.330517  0.833333         0.0\n",
              "3    0.298829  1.0      0.521957  0.333333         0.0\n",
              "4    0.467134  1.0      0.443150  0.333333         0.0"
            ],
            "text/html": [
              "\n",
              "  <div id=\"df-02e150c1-0b3f-4deb-b01e-7b1f2eaf6aa8\">\n",
              "    <div class=\"colab-df-container\">\n",
              "      <div>\n",
              "<style scoped>\n",
              "    .dataframe tbody tr th:only-of-type {\n",
              "        vertical-align: middle;\n",
              "    }\n",
              "\n",
              "    .dataframe tbody tr th {\n",
              "        vertical-align: top;\n",
              "    }\n",
              "\n",
              "    .dataframe thead tr th {\n",
              "        text-align: left;\n",
              "    }\n",
              "</style>\n",
              "<table border=\"1\" class=\"dataframe\">\n",
              "  <thead>\n",
              "    <tr>\n",
              "      <th></th>\n",
              "      <th>Loan Amount</th>\n",
              "      <th>Term</th>\n",
              "      <th>Interest Rate</th>\n",
              "      <th>Grade</th>\n",
              "      <th>Loan Status</th>\n",
              "    </tr>\n",
              "  </thead>\n",
              "  <tbody>\n",
              "    <tr>\n",
              "      <th>0</th>\n",
              "      <td>0.264403</td>\n",
              "      <td>1.0</td>\n",
              "      <td>0.265983</td>\n",
              "      <td>0.166667</td>\n",
              "      <td>0.0</td>\n",
              "    </tr>\n",
              "    <tr>\n",
              "      <th>1</th>\n",
              "      <td>0.076355</td>\n",
              "      <td>1.0</td>\n",
              "      <td>0.316414</td>\n",
              "      <td>0.333333</td>\n",
              "      <td>0.0</td>\n",
              "    </tr>\n",
              "    <tr>\n",
              "      <th>2</th>\n",
              "      <td>0.802154</td>\n",
              "      <td>1.0</td>\n",
              "      <td>0.330517</td>\n",
              "      <td>0.833333</td>\n",
              "      <td>0.0</td>\n",
              "    </tr>\n",
              "    <tr>\n",
              "      <th>3</th>\n",
              "      <td>0.298829</td>\n",
              "      <td>1.0</td>\n",
              "      <td>0.521957</td>\n",
              "      <td>0.333333</td>\n",
              "      <td>0.0</td>\n",
              "    </tr>\n",
              "    <tr>\n",
              "      <th>4</th>\n",
              "      <td>0.467134</td>\n",
              "      <td>1.0</td>\n",
              "      <td>0.443150</td>\n",
              "      <td>0.333333</td>\n",
              "      <td>0.0</td>\n",
              "    </tr>\n",
              "  </tbody>\n",
              "</table>\n",
              "</div>\n",
              "      <button class=\"colab-df-convert\" onclick=\"convertToInteractive('df-02e150c1-0b3f-4deb-b01e-7b1f2eaf6aa8')\"\n",
              "              title=\"Convert this dataframe to an interactive table.\"\n",
              "              style=\"display:none;\">\n",
              "        \n",
              "  <svg xmlns=\"http://www.w3.org/2000/svg\" height=\"24px\"viewBox=\"0 0 24 24\"\n",
              "       width=\"24px\">\n",
              "    <path d=\"M0 0h24v24H0V0z\" fill=\"none\"/>\n",
              "    <path d=\"M18.56 5.44l.94 2.06.94-2.06 2.06-.94-2.06-.94-.94-2.06-.94 2.06-2.06.94zm-11 1L8.5 8.5l.94-2.06 2.06-.94-2.06-.94L8.5 2.5l-.94 2.06-2.06.94zm10 10l.94 2.06.94-2.06 2.06-.94-2.06-.94-.94-2.06-.94 2.06-2.06.94z\"/><path d=\"M17.41 7.96l-1.37-1.37c-.4-.4-.92-.59-1.43-.59-.52 0-1.04.2-1.43.59L10.3 9.45l-7.72 7.72c-.78.78-.78 2.05 0 2.83L4 21.41c.39.39.9.59 1.41.59.51 0 1.02-.2 1.41-.59l7.78-7.78 2.81-2.81c.8-.78.8-2.07 0-2.86zM5.41 20L4 18.59l7.72-7.72 1.47 1.35L5.41 20z\"/>\n",
              "  </svg>\n",
              "      </button>\n",
              "      \n",
              "  <style>\n",
              "    .colab-df-container {\n",
              "      display:flex;\n",
              "      flex-wrap:wrap;\n",
              "      gap: 12px;\n",
              "    }\n",
              "\n",
              "    .colab-df-convert {\n",
              "      background-color: #E8F0FE;\n",
              "      border: none;\n",
              "      border-radius: 50%;\n",
              "      cursor: pointer;\n",
              "      display: none;\n",
              "      fill: #1967D2;\n",
              "      height: 32px;\n",
              "      padding: 0 0 0 0;\n",
              "      width: 32px;\n",
              "    }\n",
              "\n",
              "    .colab-df-convert:hover {\n",
              "      background-color: #E2EBFA;\n",
              "      box-shadow: 0px 1px 2px rgba(60, 64, 67, 0.3), 0px 1px 3px 1px rgba(60, 64, 67, 0.15);\n",
              "      fill: #174EA6;\n",
              "    }\n",
              "\n",
              "    [theme=dark] .colab-df-convert {\n",
              "      background-color: #3B4455;\n",
              "      fill: #D2E3FC;\n",
              "    }\n",
              "\n",
              "    [theme=dark] .colab-df-convert:hover {\n",
              "      background-color: #434B5C;\n",
              "      box-shadow: 0px 1px 3px 1px rgba(0, 0, 0, 0.15);\n",
              "      filter: drop-shadow(0px 1px 2px rgba(0, 0, 0, 0.3));\n",
              "      fill: #FFFFFF;\n",
              "    }\n",
              "  </style>\n",
              "\n",
              "      <script>\n",
              "        const buttonEl =\n",
              "          document.querySelector('#df-02e150c1-0b3f-4deb-b01e-7b1f2eaf6aa8 button.colab-df-convert');\n",
              "        buttonEl.style.display =\n",
              "          google.colab.kernel.accessAllowed ? 'block' : 'none';\n",
              "\n",
              "        async function convertToInteractive(key) {\n",
              "          const element = document.querySelector('#df-02e150c1-0b3f-4deb-b01e-7b1f2eaf6aa8');\n",
              "          const dataTable =\n",
              "            await google.colab.kernel.invokeFunction('convertToInteractive',\n",
              "                                                     [key], {});\n",
              "          if (!dataTable) return;\n",
              "\n",
              "          const docLinkHtml = 'Like what you see? Visit the ' +\n",
              "            '<a target=\"_blank\" href=https://colab.research.google.com/notebooks/data_table.ipynb>data table notebook</a>'\n",
              "            + ' to learn more about interactive tables.';\n",
              "          element.innerHTML = '';\n",
              "          dataTable['output_type'] = 'display_data';\n",
              "          await google.colab.output.renderOutput(dataTable, element);\n",
              "          const docLink = document.createElement('div');\n",
              "          docLink.innerHTML = docLinkHtml;\n",
              "          element.appendChild(docLink);\n",
              "        }\n",
              "      </script>\n",
              "    </div>\n",
              "  </div>\n",
              "  "
            ]
          },
          "metadata": {},
          "execution_count": 29
        }
      ]
    },
    {
      "cell_type": "markdown",
      "source": [
        "## Metodo del Codo para encontrar el mejor numero de clusters"
      ],
      "metadata": {
        "id": "iAFxsayP6Og_"
      }
    },
    {
      "cell_type": "code",
      "source": [
        "from sklearn.cluster import KMeans\n",
        "cs = []\n",
        "for i in range(1, 11):\n",
        "    kmeans = KMeans(n_clusters = i, init = 'k-means++', max_iter = 300, n_init = 10, random_state = 0)\n",
        "    kmeans.fit(X)\n",
        "    cs.append(kmeans.inertia_)\n",
        "plt.plot(range(1, 11), cs)\n",
        "plt.title('The Elbow Method')\n",
        "plt.xlabel('Number of clusters')\n",
        "plt.ylabel('CS')\n",
        "plt.show()"
      ],
      "metadata": {
        "colab": {
          "base_uri": "https://localhost:8080/",
          "height": 295
        },
        "id": "IW7alQ3-6r4L",
        "outputId": "d4891b22-b162-45c6-9719-240361297226"
      },
      "execution_count": 30,
      "outputs": [
        {
          "output_type": "display_data",
          "data": {
            "text/plain": [
              "<Figure size 432x288 with 1 Axes>"
            ],
            "image/png": "[encoded data removed]"
          },
          "metadata": {
            "needs_background": "light"
          }
        }
      ]
    },
    {
      "cell_type": "markdown",
      "source": [
        "Al parecer la mayor distancia se encuentra entre 4 y 5, se hará la prueba para ambas y asi ver el rendimiento."
      ],
      "metadata": {
        "id": "k9JC0uJu7vDx"
      }
    },
    {
      "cell_type": "markdown",
      "source": [
        "## Análisis de modelo"
      ],
      "metadata": {
        "id": "MKcbEhw083eE"
      }
    },
    {
      "cell_type": "code",
      "source": [
        " kmeans.cluster_centers_ "
      ],
      "metadata": {
        "colab": {
          "base_uri": "https://localhost:8080/"
        },
        "id": "oTN_nz8483Cu",
        "outputId": "b0b71946-343d-4c52-8580-f4bda3506eb1"
      },
      "execution_count": 31,
      "outputs": [
        {
          "output_type": "execute_result",
          "data": {
            "text/plain": [
              "array([[ 2.57573538e-01,  9.85888898e-01,  2.98646774e-01,\n",
              "         6.50397537e-01, -1.56819002e-15],\n",
              "       [ 4.12634579e-01,  9.86157919e-01,  5.54296776e-01,\n",
              "         2.26869617e-01, -3.88578059e-16],\n",
              "       [ 2.88262380e-01,  9.86946762e-01,  3.04395859e-01,\n",
              "         3.16545080e-01,  1.00000000e+00],\n",
              "       [ 8.40676910e-01,  9.84702541e-01,  2.98271097e-01,\n",
              "         1.88921034e-01,  1.59594560e-15],\n",
              "       [ 4.57145152e-01, -1.99840144e-15,  3.17698399e-01,\n",
              "         3.03719008e-01,  1.02617080e-01],\n",
              "       [ 7.10607197e-01,  9.84847964e-01,  2.92054899e-01,\n",
              "         3.01094409e-01,  1.00000000e+00],\n",
              "       [ 4.81974188e-01,  9.84080986e-01,  2.13888439e-01,\n",
              "         3.80656825e-01,  1.51267887e-15],\n",
              "       [ 4.93320063e-01,  9.84939734e-01,  2.19183990e-01,\n",
              "         9.47301773e-02,  3.21964677e-15],\n",
              "       [ 7.37445191e-01,  9.86745967e-01,  3.06196000e-01,\n",
              "         6.49366519e-01, -6.14786000e-15],\n",
              "       [ 1.83030204e-01,  9.84932338e-01,  2.54960569e-01,\n",
              "         1.87678001e-01,  2.44249065e-15]])"
            ]
          },
          "metadata": {},
          "execution_count": 31
        }
      ]
    },
    {
      "cell_type": "code",
      "source": [
        "kmeans.inertia_"
      ],
      "metadata": {
        "colab": {
          "base_uri": "https://localhost:8080/"
        },
        "id": "RCFeY69u9J15",
        "outputId": "ee57d71f-7e20-4e0b-b49d-48f86e80823c"
      },
      "execution_count": 32,
      "outputs": [
        {
          "output_type": "execute_result",
          "data": {
            "text/plain": [
              "3643.2734485415704"
            ]
          },
          "metadata": {},
          "execution_count": 32
        }
      ]
    },
    {
      "cell_type": "markdown",
      "source": [
        "**K-means con 4 clusters**"
      ],
      "metadata": {
        "id": "v9QhuELt8Amv"
      }
    },
    {
      "cell_type": "code",
      "source": [
        "kmeans = KMeans(n_clusters=4, random_state=0)\n",
        "\n",
        "kmeans.fit(X)\n",
        "\n",
        "# Vamos a observar cuantas muestras estan bien etiquetadas\n",
        "labels = kmeans.labels_\n",
        "\n",
        "correct_labels = sum(y == labels)\n",
        "print(\"Resultado: %d de %d muestras estan bien etiquetadas.\" % (correct_labels, y.size))\n",
        "print('Precisión: {0:0.2f}'. format(correct_labels/float(y.size)))"
      ],
      "metadata": {
        "colab": {
          "base_uri": "https://localhost:8080/"
        },
        "id": "Ffv7nnUh75Dp",
        "outputId": "ac6adcfa-1054-483d-9868-0d814b99c690"
      },
      "execution_count": 36,
      "outputs": [
        {
          "output_type": "stream",
          "name": "stdout",
          "text": [
            "Resultado: 27310 de 67463 muestras estan bien etiquetadas.\n",
            "Precisión: 0.40\n"
          ]
        }
      ]
    },
    {
      "cell_type": "markdown",
      "source": [
        "**K-means con 5 clusters**"
      ],
      "metadata": {
        "id": "DNkZ2vmZ_CuS"
      }
    },
    {
      "cell_type": "code",
      "source": [
        "kmeans = KMeans(n_clusters=5, random_state=0)\n",
        "\n",
        "kmeans.fit(X)\n",
        "\n",
        "# Vamos a observar cuantas muestras estan bien etiquetadas\n",
        "labels = kmeans.labels_\n",
        "\n",
        "correct_labels = sum(y == labels)\n",
        "print(\"Resultado: %d de %d muestras estan bien etiquetadas.\" % (correct_labels, y.size))\n",
        "print('Precisión: {0:0.2f}'. format(correct_labels/float(y.size)))"
      ],
      "metadata": {
        "colab": {
          "base_uri": "https://localhost:8080/"
        },
        "id": "aQ7uTXv4_KyN",
        "outputId": "68f588d8-a58b-4cd1-f59d-df28217a8cfa"
      },
      "execution_count": 37,
      "outputs": [
        {
          "output_type": "stream",
          "name": "stdout",
          "text": [
            "Resultado: 19772 de 67463 muestras estan bien etiquetadas.\n",
            "Precisión: 0.29\n"
          ]
        }
      ]
    },
    {
      "cell_type": "markdown",
      "source": [
        "**K-means con 6 clusters**"
      ],
      "metadata": {
        "id": "lbY2YqjI_dMu"
      }
    },
    {
      "cell_type": "code",
      "source": [
        "kmeans = KMeans(n_clusters=6, random_state=0)\n",
        "\n",
        "kmeans.fit(X)\n",
        "\n",
        "# Vamos a observar cuantas muestras estan bien etiquetadas\n",
        "labels = kmeans.labels_\n",
        "\n",
        "correct_labels = sum(y == labels)\n",
        "print(\"Resultado: %d de %d muestras estan bien etiquetadas.\" % (correct_labels, y.size))\n",
        "print('Precisión: {0:0.2f}'. format(correct_labels/float(y.size)))"
      ],
      "metadata": {
        "colab": {
          "base_uri": "https://localhost:8080/"
        },
        "id": "dnUJrbv2_ay_",
        "outputId": "45108d91-c56d-489a-b5b5-36a7f7a15e0e"
      },
      "execution_count": 38,
      "outputs": [
        {
          "output_type": "stream",
          "name": "stdout",
          "text": [
            "Resultado: 25461 de 67463 muestras estan bien etiquetadas.\n",
            "Precisión: 0.38\n"
          ]
        }
      ]
    },
    {
      "cell_type": "markdown",
      "source": [
        "De lo anterior podemos concluir que la mejor cantidad de clusters son 4 siendo este con una presición del 40%."
      ],
      "metadata": {
        "id": "oE8Ij1Te_Odr"
      }
    }
  ]
}
