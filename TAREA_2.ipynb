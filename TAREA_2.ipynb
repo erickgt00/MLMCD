{
  "nbformat": 4,
  "nbformat_minor": 0,
  "metadata": {
    "colab": {
      "provenance": [],
      "authorship_tag": "ABX9TyObC8BiL6h4gHCMJBXEmW3g",
      "include_colab_link": true
    },
    "kernelspec": {
      "name": "python3",
      "display_name": "Python 3"
    },
    "language_info": {
      "name": "python"
    }
  },
  "cells": [
    {
      "cell_type": "markdown",
      "metadata": {
        "id": "view-in-github",
        "colab_type": "text"
      },
      "source": [
        "<a href=\"https://colab.research.google.com/github/erickgt00/MLMCD/blob/main/TAREA_2.ipynb\" target=\"_parent\"><img src=\"https://colab.research.google.com/assets/colab-badge.svg\" alt=\"Open In Colab\"/></a>"
      ]
    },
    {
      "cell_type": "markdown",
      "source": [
        "## TAREA EN CLASE 2\n",
        "\n",
        "* Cargar conjunto de datos mediante pandas\n",
        "\n",
        "* Especificar el tipo de datos de cada columna\n",
        "\n",
        "* Si es necesario, asignar una columna como índice"
      ],
      "metadata": {
        "id": "LN4DeKtOuEv3"
      }
    },
    {
      "cell_type": "code",
      "execution_count": 1,
      "metadata": {
        "id": "vhZI7WGrt-Eo"
      },
      "outputs": [],
      "source": [
        "import pandas as pd\n",
        "from IPython.display import Markdown"
      ]
    },
    {
      "cell_type": "code",
      "source": [
        "datos = pd.read_csv('test.csv')\n",
        "df_datos = pd.DataFrame(datos)"
      ],
      "metadata": {
        "id": "BvhvsShruJiy"
      },
      "execution_count": 3,
      "outputs": []
    },
    {
      "cell_type": "code",
      "source": [
        "df_datos"
      ],
      "metadata": {
        "id": "IVLW0t89uX0v"
      },
      "execution_count": null,
      "outputs": []
    },
    {
      "cell_type": "code",
      "source": [],
      "metadata": {
        "id": "WmYOGuIrufxN"
      },
      "execution_count": null,
      "outputs": []
    }
  ]
}