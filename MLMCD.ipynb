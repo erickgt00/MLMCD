{
  "nbformat": 4,
  "nbformat_minor": 0,
  "metadata": {
    "colab": {
      "provenance": [],
      "authorship_tag": "ABX9TyOhe5c47T0B1+06B45dBilK",
      "include_colab_link": true
    },
    "kernelspec": {
      "name": "python3",
      "display_name": "Python 3"
    },
    "language_info": {
      "name": "python"
    }
  },
  "cells": [
    {
      "cell_type": "markdown",
      "metadata": {
        "id": "view-in-github",
        "colab_type": "text"
      },
      "source": [
        "<a href=\"https://colab.research.google.com/github/erickgt00/MLMCD/blob/main/MLMCD.ipynb\" target=\"_parent\"><img src=\"https://colab.research.google.com/assets/colab-badge.svg\" alt=\"Open In Colab\"/></a>"
      ]
    },
    {
      "cell_type": "code",
      "execution_count": null,
      "metadata": {
        "id": "hyOtwgABXZQD"
      },
      "outputs": [],
      "source": []
    },
    {
      "cell_type": "markdown",
      "source": [
        "# Esta es mi primer linea en Google Colab\n",
        "\n",
        "Para este curso utilizare este repositorio para llevar a cabo todas las actividades del curso de Aprendizaje Automático dentro de la Maestría en Ciencia de Datos.\n"
      ],
      "metadata": {
        "id": "YkRqy95OXz9j"
      }
    },
    {
      "cell_type": "markdown",
      "source": [
        "## TAREA 1\n",
        "\n",
        "Para esta tarea elegimos una base de datos llamada \"Loan Default Predicition\" de Kaggle. En la cual buscaremos predecir si una persona será morosa o no.\n",
        "\n",
        "Los bancos incurren en pérdidas cuando los clientes no pagan sus préstamos a tiempo. Debido a esto, todos los años, los bancos tienen pérdidas en millones de dólares, y esto también afecta en gran medida el crecimiento económico del país. En esta curso, analizaremos varios atributos, como el monto financiado, la ubicación, el préstamo, el saldo, etc., para predecir si una persona será morosa o no.\n",
        "\n",
        "Los objetivos de este curso serán definitivamente aprender de manera contundente utilizar Python y Jupyter (dos herramientas que no uso) por lo que representaran un gran reto personal. También poder realizar aprendizajes autómaticos es un gran logro que me gustaría alcanzar.\n"
      ],
      "metadata": {
        "id": "pRGDzyI2TCNZ"
      }
    }
  ]
}