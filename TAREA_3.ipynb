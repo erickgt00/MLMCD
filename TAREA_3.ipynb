{
  "nbformat": 4,
  "nbformat_minor": 0,
  "metadata": {
    "colab": {
      "provenance": [],
      "authorship_tag": "ABX9TyN5Sfkx3ZAfjxrKAbHqNWSr",
      "include_colab_link": true
    },
    "kernelspec": {
      "name": "python3",
      "display_name": "Python 3"
    },
    "language_info": {
      "name": "python"
    }
  },
  "cells": [
    {
      "cell_type": "markdown",
      "metadata": {
        "id": "view-in-github",
        "colab_type": "text"
      },
      "source": [
        "<a href=\"https://colab.research.google.com/github/erickgt00/MLMCD/blob/main/TAREA_3.ipynb\" target=\"_parent\"><img src=\"https://colab.research.google.com/assets/colab-badge.svg\" alt=\"Open In Colab\"/></a>"
      ]
    },
    {
      "cell_type": "markdown",
      "source": [
        "# TAREA 3 EN CLASE\n",
        "\n",
        "* Crear funciones para calcular las medidas de tendencia central y de dispersión con Python puro (sin librerías)\n",
        "* Comprueba si tus variables de interés son conjuntos de datos paramétricos o no paramétricos\n",
        "\n"
      ],
      "metadata": {
        "id": "Jv7NmL1kwWbN"
      }
    },
    {
      "cell_type": "code",
      "execution_count": 1,
      "metadata": {
        "id": "SMqF30RZwRsO"
      },
      "outputs": [],
      "source": [
        "import pandas as pd\n",
        "df = pd.read_csv(\"test.csv\")\n",
        "v1 = df[\"Loan Amount\"]\n",
        "vector1 = v1.values"
      ]
    },
    {
      "cell_type": "markdown",
      "source": [
        "## Media del Monto Prestado"
      ],
      "metadata": {
        "id": "2jtyWuSKzTwa"
      }
    },
    {
      "cell_type": "code",
      "source": [
        "suma = 0\n",
        "\n",
        "for i in vector1:\n",
        "    suma += i\n",
        "\n",
        "media = suma / len(vector1)\n",
        "print(media)"
      ],
      "metadata": {
        "colab": {
          "base_uri": "https://localhost:8080/"
        },
        "id": "BQl5_TVjzS_N",
        "outputId": "2cdaccd6-c546-4a95-d4f8-ee99c9444cab"
      },
      "execution_count": 5,
      "outputs": [
        {
          "output_type": "stream",
          "name": "stdout",
          "text": [
            "16404.02746169543\n"
          ]
        }
      ]
    },
    {
      "cell_type": "markdown",
      "source": [
        "## Mediana de la Tasa de Interes"
      ],
      "metadata": {
        "id": "Mi0uD80Y1PHD"
      }
    },
    {
      "cell_type": "code",
      "source": [
        "v2 = df[\"Interest Rate\"]\n",
        "vector2 = v2.values\n",
        "vector2.sort()\n",
        "n = len(vector2) # Calcula el tamaño del vector\n",
        "if n % 2 == 0:\n",
        "    mediana = (vector2[n // 2] + vector2[n // 2 - 1]) / 2\n",
        "else:\n",
        "    mediana = vector2[n // 2]\n",
        "\n",
        "print(mediana)"
      ],
      "metadata": {
        "colab": {
          "base_uri": "https://localhost:8080/"
        },
        "id": "aYwW01R5z6ww",
        "outputId": "c7e90adc-217e-48da-9724-d94bb0f2c34a"
      },
      "execution_count": 6,
      "outputs": [
        {
          "output_type": "stream",
          "name": "stdout",
          "text": [
            "11.68865217\n"
          ]
        }
      ]
    },
    {
      "cell_type": "markdown",
      "source": [
        "## La moda del Titulo del Prestamo"
      ],
      "metadata": {
        "id": "ITF_a31P3l0O"
      }
    },
    {
      "cell_type": "code",
      "source": [
        "v3 = df[\"Loan Title\"]\n",
        "vector3 = v3.values\n",
        "# Abrimos una librería vacía\n",
        "frec = {}\n",
        "\n",
        "# Recorremos el conjunto y contamos la frecuencia\n",
        "for j in vector3:\n",
        "    if j in frec:\n",
        "        frec[j] += 1\n",
        "    else:\n",
        "        frec[j] = 1\n",
        "\n",
        "moda = max(frec, key=frec.get)\n",
        "\n",
        "print(moda)\n"
      ],
      "metadata": {
        "colab": {
          "base_uri": "https://localhost:8080/"
        },
        "id": "h6QlD-iU3lTj",
        "outputId": "ae10c81e-c69e-474c-e60d-4a820a9304c1"
      },
      "execution_count": 14,
      "outputs": [
        {
          "output_type": "stream",
          "name": "stdout",
          "text": [
            "Debt consolidation\n"
          ]
        }
      ]
    },
    {
      "cell_type": "markdown",
      "source": [
        "## Test de Normalidad para el Monto del Prestamo"
      ],
      "metadata": {
        "id": "UEMRnTMB5_1G"
      }
    },
    {
      "cell_type": "code",
      "source": [
        "# Usaremos el test de normalidad de Shapiro-Wilk\n",
        "from scipy.stats import shapiro\n",
        "\n",
        "w, p = shapiro(vector1)\n",
        "\n",
        "# Valor crítico para un nivel de significancia del 5%\n",
        "alpha = 0.05\n",
        "\n",
        "if p > alpha:\n",
        "    print(\"Los datos siguen una distribución normal\")\n",
        "else:\n",
        "    print(\"Los datos no siguen una distribución normal\")"
      ],
      "metadata": {
        "colab": {
          "base_uri": "https://localhost:8080/"
        },
        "id": "snk8IfsY7QWQ",
        "outputId": "1aa8b6ad-40a7-4842-b855-5a3acabea33c"
      },
      "execution_count": 15,
      "outputs": [
        {
          "output_type": "stream",
          "name": "stdout",
          "text": [
            "Los datos no siguen una distribución normal\n"
          ]
        },
        {
          "output_type": "stream",
          "name": "stderr",
          "text": [
            "/usr/local/lib/python3.8/dist-packages/scipy/stats/morestats.py:1760: UserWarning: p-value may not be accurate for N > 5000.\n",
            "  warnings.warn(\"p-value may not be accurate for N > 5000.\")\n"
          ]
        }
      ]
    },
    {
      "cell_type": "code",
      "source": [
        "import matplotlib.pyplot as plt\n",
        "plt.hist(vector1)\n",
        "\n",
        "# Añadir título y etiquetas de eje\n",
        "plt.title(\"Histograma del Monto Prestado\")\n",
        "plt.xlabel(\"Monto Prestado\")\n",
        "plt.ylabel(\"Frecuencia\")\n",
        "\n",
        "# Mostrar el gráfico\n",
        "plt.show()\n"
      ],
      "metadata": {
        "colab": {
          "base_uri": "https://localhost:8080/",
          "height": 295
        },
        "id": "joshLKd07vIb",
        "outputId": "b5ef414c-196f-4838-cad8-b3245e7edf7e"
      },
      "execution_count": 16,
      "outputs": [
        {
          "output_type": "display_data",
          "data": {
            "text/plain": [
              "<Figure size 432x288 with 1 Axes>"
            ],
            "image/png": "[encoded data removed]"
          },
          "metadata": {
            "needs_background": "light"
          }
        }
      ]
    },
    {
      "cell_type": "markdown",
      "source": [
        "Podríamos decir que puede llegar a seguir una distribución logarítmica normal pero no tenemos pruebas suficientes para hacer esta aceveración"
      ],
      "metadata": {
        "id": "OMubeWHD779s"
      }
    },
    {
      "cell_type": "markdown",
      "source": [
        "## Test de Normalidad para la Tasa de Interés"
      ],
      "metadata": {
        "id": "Epu54Fo-8MTh"
      }
    },
    {
      "cell_type": "code",
      "source": [
        "# Usaremos el test de normalidad de Shapiro-Wilk\n",
        "r, t = shapiro(vector2)\n",
        "\n",
        "# Valor crítico para un nivel de significancia del 5%\n",
        "alpha = 0.05\n",
        "\n",
        "if t > alpha:\n",
        "    print(\"Los datos siguen una distribución normal\")\n",
        "else:\n",
        "    print(\"Los datos no siguen una distribución normal\")"
      ],
      "metadata": {
        "colab": {
          "base_uri": "https://localhost:8080/"
        },
        "id": "s94CGiY_8S0t",
        "outputId": "f155456a-c7b1-4ac4-8369-d2716cfd0109"
      },
      "execution_count": 17,
      "outputs": [
        {
          "output_type": "stream",
          "name": "stdout",
          "text": [
            "Los datos no siguen una distribución normal\n"
          ]
        },
        {
          "output_type": "stream",
          "name": "stderr",
          "text": [
            "/usr/local/lib/python3.8/dist-packages/scipy/stats/morestats.py:1760: UserWarning: p-value may not be accurate for N > 5000.\n",
            "  warnings.warn(\"p-value may not be accurate for N > 5000.\")\n"
          ]
        }
      ]
    },
    {
      "cell_type": "code",
      "source": [
        "plt.hist(vector2)\n",
        "\n",
        "# Añadir título y etiquetas de eje\n",
        "plt.title(\"Histograma de la Tasa de Interés\")\n",
        "plt.xlabel(\"Tasa de Interés\")\n",
        "plt.ylabel(\"Frecuencia\")\n",
        "\n",
        "# Mostrar el gráfico\n",
        "plt.show()"
      ],
      "metadata": {
        "colab": {
          "base_uri": "https://localhost:8080/",
          "height": 295
        },
        "id": "n7611J_K8iAU",
        "outputId": "7330e31f-1d1b-471b-fd50-92f0119fc817"
      },
      "execution_count": 18,
      "outputs": [
        {
          "output_type": "display_data",
          "data": {
            "text/plain": [
              "<Figure size 432x288 with 1 Axes>"
            ],
            "image/png": "[encoded data removed]"
          },
          "metadata": {
            "needs_background": "light"
          }
        }
      ]
    },
    {
      "cell_type": "markdown",
      "source": [
        "Podríamos decir que puede llegar a seguir una distribución logarítmica pero no tenemos pruebas suficientes para hacer esta aceveración"
      ],
      "metadata": {
        "id": "AYfn2JzU8tFc"
      }
    }
  ]
}